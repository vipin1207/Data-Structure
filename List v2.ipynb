{
 "cells": [
  {
   "cell_type": "code",
   "execution_count": 1,
   "id": "4fbaee03",
   "metadata": {},
   "outputs": [
    {
     "name": "stdout",
     "output_type": "stream",
     "text": [
      "9\n"
     ]
    }
   ],
   "source": [
    "#17.\n",
    "a = [1,2,3,5,7,11,13,17,19]\n",
    "print(len(a))"
   ]
  },
  {
   "cell_type": "code",
   "execution_count": 2,
   "id": "ec365efd",
   "metadata": {},
   "outputs": [
    {
     "name": "stdout",
     "output_type": "stream",
     "text": [
      "[5, 2, 18, 7, 12]\n"
     ]
    }
   ],
   "source": [
    "#18.\n",
    "v = [5,2,18,7,12]\n",
    "print(v)"
   ]
  },
  {
   "cell_type": "code",
   "execution_count": 3,
   "id": "2579f51b",
   "metadata": {},
   "outputs": [
    {
     "name": "stdout",
     "output_type": "stream",
     "text": [
      "[2, 5, 7, 12, 18]\n"
     ]
    }
   ],
   "source": [
    "#(a) Ascending order\n",
    "v.sort()\n",
    "print(v)\n",
    "\n"
   ]
  },
  {
   "cell_type": "code",
   "execution_count": 5,
   "id": "15a91ac1",
   "metadata": {},
   "outputs": [
    {
     "name": "stdout",
     "output_type": "stream",
     "text": [
      "[18, 12, 7, 5, 2]\n"
     ]
    }
   ],
   "source": [
    "# Dscending order\n",
    "v.sort(reverse = True)\n",
    "print(v)"
   ]
  },
  {
   "cell_type": "code",
   "execution_count": 7,
   "id": "cc5a5033",
   "metadata": {},
   "outputs": [
    {
     "name": "stdout",
     "output_type": "stream",
     "text": [
      "[1, 2, 3, 4, 5, 6, 7, 8, 9, 10]\n"
     ]
    }
   ],
   "source": [
    "#19.\n",
    "a =[1,2,3,4,5]\n",
    "b = [6,7,8,9,10]\n",
    "list = a+b\n",
    "print(list)"
   ]
  },
  {
   "cell_type": "code",
   "execution_count": 12,
   "id": "8cd321a7",
   "metadata": {},
   "outputs": [
    {
     "name": "stdout",
     "output_type": "stream",
     "text": [
      "['vipin', 'vimal', 'vikash', 'vishal']\n"
     ]
    }
   ],
   "source": [
    "#20\n",
    "my_List1 = [\"vipin\",'vimal','vikash','vishal']\n",
    "new_list = my_List1\n",
    "print(new_list)\n",
    "        "
   ]
  },
  {
   "cell_type": "code",
   "execution_count": 15,
   "id": "f0185ddb",
   "metadata": {},
   "outputs": [
    {
     "name": "stdout",
     "output_type": "stream",
     "text": [
      "['vipin', 'vimal', 'vikash', 'vishal', 'vinay']\n",
      "['vipin', 'vimal', 'vikash', 'vishal', 'vinay']\n"
     ]
    }
   ],
   "source": [
    "# making changes in orginal list\n",
    "my_List1.append('vinay')\n",
    "print(my_List1)\n",
    "print(new_list)"
   ]
  },
  {
   "cell_type": "code",
   "execution_count": 16,
   "id": "60f0bb2f",
   "metadata": {},
   "outputs": [
    {
     "name": "stdout",
     "output_type": "stream",
     "text": [
      "['Abhay', 'Abhishek', 'Rakesh']\n"
     ]
    }
   ],
   "source": [
    "#21\n",
    "list = ['Abhay','Abhishek','Rakesh']\n",
    "newlist = list.copy()\n",
    "print(newlist)"
   ]
  },
  {
   "cell_type": "code",
   "execution_count": 17,
   "id": "29cd0a61",
   "metadata": {},
   "outputs": [
    {
     "name": "stdout",
     "output_type": "stream",
     "text": [
      "['Abhay', 'Abhishek', 'Rakesh', 'Satish']\n",
      "['Abhay', 'Abhishek', 'Rakesh']\n"
     ]
    }
   ],
   "source": [
    "list.append('Satish')\n",
    "print(list)\n",
    "print(newlist)"
   ]
  },
  {
   "cell_type": "code",
   "execution_count": null,
   "id": "c9a488e9",
   "metadata": {},
   "outputs": [],
   "source": []
  }
 ],
 "metadata": {
  "kernelspec": {
   "display_name": "Python 3 (ipykernel)",
   "language": "python",
   "name": "python3"
  },
  "language_info": {
   "codemirror_mode": {
    "name": "ipython",
    "version": 3
   },
   "file_extension": ".py",
   "mimetype": "text/x-python",
   "name": "python",
   "nbconvert_exporter": "python",
   "pygments_lexer": "ipython3",
   "version": "3.9.7"
  }
 },
 "nbformat": 4,
 "nbformat_minor": 5
}

