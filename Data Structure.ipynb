{
 "cells": [
  {
   "cell_type": "code",
   "execution_count": 6,
   "id": "0e5e0e7b",
   "metadata": {},
   "outputs": [
    {
     "name": "stdout",
     "output_type": "stream",
     "text": [
      "{1, 2, 3, 4, 5}\n",
      "[1, 2, 3, 4, 5]\n"
     ]
    }
   ],
   "source": [
    "#1 (a)\n",
    "List1 = [1,2,2,3,3,3,4,4,4,5,5,5]\n",
    "Set1 = set((List1))\n",
    "print(Set1)\n",
    "\n",
    "List = list(Set1)\n",
    "print(List)"
   ]
  },
  {
   "cell_type": "code",
   "execution_count": 9,
   "id": "1c9ea4b2",
   "metadata": {},
   "outputs": [
    {
     "name": "stdout",
     "output_type": "stream",
     "text": [
      "{6, 7, 8, 9, 10}\n",
      "[6, 7, 8, 9, 10]\n"
     ]
    }
   ],
   "source": [
    "#(b)\n",
    "List2 = [6,6,6,7,7,7,8,8,8,9,9,9,10,10,10]\n",
    "Set2 = set(List2)\n",
    "print(Set2)\n",
    "\n",
    "List = list(Set2)\n",
    "print(List)"
   ]
  },
  {
   "cell_type": "code",
   "execution_count": 11,
   "id": "686861bf",
   "metadata": {},
   "outputs": [
    {
     "name": "stdout",
     "output_type": "stream",
     "text": [
      "{1, 2, 3, 4, 5}\n",
      "(1, 2, 3, 4, 5)\n"
     ]
    }
   ],
   "source": [
    "#2.\n",
    "T = (1,1,2,2,2,3,3,3,4,4,5,5,6,6,6,7,7,7,7,8,8,8)\n",
    "Set2 = set(T)\n",
    "print(Set1)\n",
    "\n",
    "Tuple = tuple(Set1)\n",
    "print(Tuple)"
   ]
  },
  {
   "cell_type": "code",
   "execution_count": 13,
   "id": "525cadf7",
   "metadata": {},
   "outputs": [
    {
     "name": "stdout",
     "output_type": "stream",
     "text": [
      "{1, 2, 3, 4, 5}\n"
     ]
    }
   ],
   "source": [
    "#3.\n",
    "A = [1,2,3,4,5]\n",
    "Set1 =set(A)\n",
    "print(Set1)"
   ]
  },
  {
   "cell_type": "code",
   "execution_count": 14,
   "id": "4a48bf84",
   "metadata": {},
   "outputs": [
    {
     "name": "stdout",
     "output_type": "stream",
     "text": [
      "{8, 1, 6, 7}\n"
     ]
    }
   ],
   "source": [
    "B = [1,6,7,8]\n",
    "Set2 = set(B)\n",
    "print(Set2)"
   ]
  },
  {
   "cell_type": "code",
   "execution_count": 15,
   "id": "bcfb7e66",
   "metadata": {},
   "outputs": [
    {
     "name": "stdout",
     "output_type": "stream",
     "text": [
      "{8, 9, 10}\n"
     ]
    }
   ],
   "source": [
    "C = [8,9,10]\n",
    "Set3 = set(C)\n",
    "print(Set3)"
   ]
  },
  {
   "cell_type": "code",
   "execution_count": 16,
   "id": "bc777ca4",
   "metadata": {},
   "outputs": [
    {
     "name": "stdout",
     "output_type": "stream",
     "text": [
      "{1, 2, 3, 4, 5, 6, 7, 8}\n"
     ]
    }
   ],
   "source": [
    "#union Method\n",
    "Set4 = Set1 | Set2\n",
    "print(Set4)"
   ]
  },
  {
   "cell_type": "code",
   "execution_count": 17,
   "id": "e0cc45f4",
   "metadata": {},
   "outputs": [
    {
     "name": "stdout",
     "output_type": "stream",
     "text": [
      "{1, 2, 3, 4, 5, 6, 7, 8, 9, 10}\n"
     ]
    }
   ],
   "source": [
    "Set5 = Set4 | Set3\n",
    "print(Set5)"
   ]
  },
  {
   "cell_type": "code",
   "execution_count": 18,
   "id": "c66c3f6e",
   "metadata": {},
   "outputs": [
    {
     "name": "stdout",
     "output_type": "stream",
     "text": [
      "{1}\n"
     ]
    }
   ],
   "source": [
    "#Intersection Method\n",
    "Set6 = Set1 &  Set2\n",
    "print(Set6)"
   ]
  },
  {
   "cell_type": "code",
   "execution_count": 20,
   "id": "cc3ae5d9",
   "metadata": {},
   "outputs": [
    {
     "name": "stdout",
     "output_type": "stream",
     "text": [
      "{8}\n"
     ]
    }
   ],
   "source": [
    "Set7 = Set2 & Set3\n",
    "print(Set7)"
   ]
  },
  {
   "cell_type": "code",
   "execution_count": 21,
   "id": "32c0e882",
   "metadata": {},
   "outputs": [
    {
     "name": "stdout",
     "output_type": "stream",
     "text": [
      "{8, 1}\n"
     ]
    }
   ],
   "source": [
    "Set8 =  Set6 | Set7\n",
    "print(Set8)"
   ]
  },
  {
   "cell_type": "code",
   "execution_count": null,
   "id": "e3f7b4e0",
   "metadata": {},
   "outputs": [],
   "source": []
  }
 ],
 "metadata": {
  "kernelspec": {
   "display_name": "Python 3 (ipykernel)",
   "language": "python",
   "name": "python3"
  },
  "language_info": {
   "codemirror_mode": {
    "name": "ipython",
    "version": 3
   },
   "file_extension": ".py",
   "mimetype": "text/x-python",
   "name": "python",
   "nbconvert_exporter": "python",
   "pygments_lexer": "ipython3",
   "version": "3.9.7"
  }
 },
 "nbformat": 4,
 "nbformat_minor": 5
}
