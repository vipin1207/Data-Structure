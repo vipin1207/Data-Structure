{
 "cells": [
  {
   "cell_type": "code",
   "execution_count": 2,
   "id": "c0c68ace",
   "metadata": {},
   "outputs": [
    {
     "name": "stdout",
     "output_type": "stream",
     "text": [
      "['Aerodynamics', 'propulsion', 'Flight Mechanics', 'Stracture', 'Space Scince']\n"
     ]
    }
   ],
   "source": [
    "#22.\n",
    "#Stack: A stack is liner data structure that stores items in Last-in/First-Out(LIFO).In stack, a new element is added at one \n",
    "#end and an element is removed from that end only.\n",
    " #working of append() and pop() Function:\n",
    "# stack using List\n",
    "stack = ['Aerodynamics','propulsion','Flight Mechanics']\n",
    "stack.append('Stracture')\n",
    "stack.append('Space Scince')\n",
    "print(stack)"
   ]
  },
  {
   "cell_type": "code",
   "execution_count": 3,
   "id": "3f65cdb9",
   "metadata": {},
   "outputs": [
    {
     "name": "stdout",
     "output_type": "stream",
     "text": [
      "Space Scince\n",
      "Stracture\n"
     ]
    }
   ],
   "source": [
    "#Remove the last item\n",
    "print(stack.pop())\n",
    "print(stack.pop())"
   ]
  },
  {
   "cell_type": "code",
   "execution_count": 4,
   "id": "0af94e71",
   "metadata": {},
   "outputs": [
    {
     "name": "stdout",
     "output_type": "stream",
     "text": [
      "['Aerodynamics', 'propulsion', 'Flight Mechanics']\n"
     ]
    }
   ],
   "source": [
    "print(stack)"
   ]
  },
  {
   "cell_type": "code",
   "execution_count": 12,
   "id": "3acc3b17",
   "metadata": {},
   "outputs": [],
   "source": [
    "#Queue: Queue woks on the principle of \"First in First out\"\n",
    "    "
   ]
  },
  {
   "cell_type": "code",
   "execution_count": 14,
   "id": "841d90f2",
   "metadata": {},
   "outputs": [
    {
     "name": "stdout",
     "output_type": "stream",
     "text": [
      "['Aerodynamics', 'propulsion', 'Flight Mechanics', 'stracture', 'space scince']\n"
     ]
    }
   ],
   "source": [
    "# Queue using list\n",
    "queue = ['Aerodynamics','propulsion','Flight Mechanics']\n",
    "queue.append('stracture')\n",
    "queue.append('space scince')\n",
    "print(queue)"
   ]
  },
  {
   "cell_type": "code",
   "execution_count": 15,
   "id": "0c663528",
   "metadata": {},
   "outputs": [
    {
     "name": "stdout",
     "output_type": "stream",
     "text": [
      "Aerodynamics\n",
      "['propulsion', 'Flight Mechanics', 'stracture', 'space scince']\n"
     ]
    }
   ],
   "source": [
    "# Removes the first item\n",
    "print(queue.pop(0))\n",
    "print(queue)"
   ]
  },
  {
   "cell_type": "code",
   "execution_count": 16,
   "id": "9d536057",
   "metadata": {},
   "outputs": [
    {
     "name": "stdout",
     "output_type": "stream",
     "text": [
      "propulsion\n",
      "Flight Mechanics\n"
     ]
    }
   ],
   "source": [
    "#Remove the first item\n",
    "print(queue.pop(0))\n",
    "print(queue.pop(0))"
   ]
  },
  {
   "cell_type": "code",
   "execution_count": 20,
   "id": "9f7d8aaa",
   "metadata": {},
   "outputs": [
    {
     "name": "stdout",
     "output_type": "stream",
     "text": [
      "[(1, 'Shalendra', 32, 4), (2, 'Vipin', 29, 3), (3, 'Arun', 30, 1), (4, 'Chanda', 31, 2)]\n"
     ]
    }
   ],
   "source": [
    "#23.\n",
    "name= ['Shalendra','Vipin','Arun','Chanda']\n",
    "natural_no = [1,2,3,4]\n",
    "age = [32,29,30,31]\n",
    "roll_no =[4,3,1,2]\n",
    "a =zip(natural_no,name,age,roll_no)\n",
    "a = list(a)\n",
    "print(a)"
   ]
  },
  {
   "cell_type": "code",
   "execution_count": 21,
   "id": "01a841a8",
   "metadata": {},
   "outputs": [
    {
     "name": "stdout",
     "output_type": "stream",
     "text": [
      "(1, 2, 3, 4)\n",
      "('Shalendra', 'Vipin', 'Arun', 'Chanda')\n",
      "(32, 29, 30, 31)\n",
      "(4, 3, 1, 2)\n"
     ]
    }
   ],
   "source": [
    "#unzipping values\n",
    "namez,natural_noz,agez,roll_noz =zip(*a)\n",
    "print(namez)\n",
    "print(natural_noz)\n",
    "print(agez)\n",
    "print(roll_noz)"
   ]
  }
 ],
 "metadata": {
  "kernelspec": {
   "display_name": "Python 3 (ipykernel)",
   "language": "python",
   "name": "python3"
  },
  "language_info": {
   "codemirror_mode": {
    "name": "ipython",
    "version": 3
   },
   "file_extension": ".py",
   "mimetype": "text/x-python",
   "name": "python",
   "nbconvert_exporter": "python",
   "pygments_lexer": "ipython3",
   "version": "3.9.7"
  }
 },
 "nbformat": 4,
 "nbformat_minor": 5
}
