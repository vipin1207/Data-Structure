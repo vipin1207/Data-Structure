{
 "cells": [
  {
   "cell_type": "code",
   "execution_count": 2,
   "id": "4230728f",
   "metadata": {},
   "outputs": [
    {
     "name": "stdout",
     "output_type": "stream",
     "text": [
      "1,my self =  VIPIN PAL\n",
      "2, Age ? =  29\n",
      "3,where do you stay? =  THANE\n",
      "4, Qualification 🏢 ? = B-tech(Aeronautical Engineering)\n",
      "5,Resent stedy Profile 🏢 ? =  PYTHON\n",
      "6,Instuate name 🏢 ? = NET TECH\n",
      "7,Hooby ?= Learn new Technology, Reading Book\n",
      "8,interest in field ? = IT,AEROSPACE\n",
      "9 ,Your Passion ? = Steady\n",
      "10, Your goal 🎯 ? = Good Engineer\n",
      " -- MY SELF---\n",
      " \\ U0001F64F Good Morning / Good Afternoon 🌅\n",
      " \t My name is VIPIN PAL , I am staying 🏠 in THANE 🏠 in ,  \n",
      "\n",
      "\tRecently i am staying 🏠 in THANE,  My highest Qulification is B-tech(Aeronautical Engineering) 🎓,  \n",
      "\n",
      " \tRecently i am  stedy as PYTHON profile in Good Engineer,  My hobby is NET TECH,  I am interested about is Learn new Technology, Reading Book field,  I am passionate about is IT,AEROSPACE 😎, My goal 🎯 is Steady, \n",
      "\t Thank You 🙏 ,\n"
     ]
    }
   ],
   "source": [
    "a=input(\"1,my self =  \")\n",
    "b=input(\"2, Age ? =  \" )\n",
    "c=input(\"3,where do you stay? =  \")\n",
    "d=input(\"4, Qualification \\U0001F3E2 ? = \")\n",
    "e=input(\"5,Resent stedy Profile \\U0001F3E2 ? =  \")\n",
    "f=input(\"6,Instuate name \\U0001F3E2 ? = \")\n",
    "g=input(\"7,Hooby ?= \")\n",
    "h=input(\"8,interest in field ? = \")\n",
    "i=input(\"9 ,Your Passion ? = \")\n",
    "j=input(\"10, Your goal \\U0001F3AF ? = \")\n",
    "\n",
    "print(\" -- MY SELF---\")\n",
    "print(\" \\ U0001F64F Good Morning / Good Afternoon \\U0001F305\")\n",
    "print(\" \\t My name is %s ,\" %(a), end=\" \")\n",
    "print(\"I am staying \\U0001F3E0 in %s \\U0001F3E0 in ,\" %(c), end =\" \")\n",
    "print(\" \\n\")\n",
    "print(\"\\tRecently i am staying \\U0001F3E0 in %s,\"%(c),  end= \" \")\n",
    "print(\" My highest Qulification is %s \\U0001F393,\" %(d), end=\" \") \n",
    "print(\" \\n\")\n",
    "print(\" \\tRecently i am  stedy as %s profile in %s,\"%(e,j), end=\" \")\n",
    "print(\" My hobby is %s,\" %(f), end=\" \")\n",
    "print(\" I am interested about is %s field,\" %(g), end=\" \")\n",
    "print(\" I am passionate about is %s \\U0001F60E,\"%(h), end=\" \")\n",
    "print(\"My goal \\U0001F3AF is %s, \"%(i))\n",
    "print(\"\\t Thank You \\U0001F64F ,\")\n",
    "      \n",
    "      "
   ]
  },
  {
   "cell_type": "code",
   "execution_count": null,
   "id": "7af833ed",
   "metadata": {},
   "outputs": [],
   "source": []
  },
  {
   "cell_type": "code",
   "execution_count": null,
   "id": "f92e4b8f",
   "metadata": {},
   "outputs": [],
   "source": []
  }
 ],
 "metadata": {
  "kernelspec": {
   "display_name": "Python 3 (ipykernel)",
   "language": "python",
   "name": "python3"
  },
  "language_info": {
   "codemirror_mode": {
    "name": "ipython",
    "version": 3
   },
   "file_extension": ".py",
   "mimetype": "text/x-python",
   "name": "python",
   "nbconvert_exporter": "python",
   "pygments_lexer": "ipython3",
   "version": "3.9.7"
  }
 },
 "nbformat": 4,
 "nbformat_minor": 5
}
