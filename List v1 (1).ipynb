{
 "cells": [
  {
   "cell_type": "code",
   "execution_count": 8,
   "id": "f7f57085",
   "metadata": {},
   "outputs": [
    {
     "name": "stdout",
     "output_type": "stream",
     "text": [
      "['Vipin', 29, 'Aerospace', 'Thane']\n"
     ]
    }
   ],
   "source": [
    "#1\n",
    "List = [\"Vipin\",29,'Aerospace','Thane']\n",
    "print(List)\n",
    "\n",
    "      \n"
   ]
  },
  {
   "cell_type": "code",
   "execution_count": 9,
   "id": "6757066d",
   "metadata": {},
   "outputs": [
    {
     "name": "stdout",
     "output_type": "stream",
     "text": [
      "Aerospace\n"
     ]
    }
   ],
   "source": [
    "#2\n",
    "print(List[2])"
   ]
  },
  {
   "cell_type": "code",
   "execution_count": 10,
   "id": "5dcbd99a",
   "metadata": {},
   "outputs": [
    {
     "name": "stdout",
     "output_type": "stream",
     "text": [
      "Thane\n"
     ]
    }
   ],
   "source": [
    "#3\n",
    "print(List[3])"
   ]
  },
  {
   "cell_type": "code",
   "execution_count": 13,
   "id": "73eaf522",
   "metadata": {},
   "outputs": [
    {
     "name": "stdout",
     "output_type": "stream",
     "text": [
      "Aerospace\n",
      "Aerospace\n"
     ]
    }
   ],
   "source": [
    "#4 (a) Forward indexing\n",
    "print(List[2])\n",
    "#(b)  Backward indexing\n",
    "print(List[-2])\n",
    " \n"
   ]
  },
  {
   "cell_type": "code",
   "execution_count": 16,
   "id": "00fa7b9f",
   "metadata": {},
   "outputs": [
    {
     "name": "stdout",
     "output_type": "stream",
     "text": [
      "['pal', 29, 'Aerospace', 'Thane']\n"
     ]
    }
   ],
   "source": [
    "#5\n",
    "List[0] = 'pal'\n",
    "print(List)"
   ]
  },
  {
   "cell_type": "code",
   "execution_count": 18,
   "id": "3d79dab5",
   "metadata": {},
   "outputs": [
    {
     "name": "stdout",
     "output_type": "stream",
     "text": [
      "[['29', 'Aerospace'], 29, 'Aerospace', 'Thane']\n"
     ]
    }
   ],
   "source": [
    "#6\n",
    "List[0 ]= ['29','Aerospace']\n",
    "print(List)"
   ]
  },
  {
   "cell_type": "code",
   "execution_count": 19,
   "id": "fcf80528",
   "metadata": {},
   "outputs": [
    {
     "name": "stdout",
     "output_type": "stream",
     "text": [
      "[['29,pal'], 29, 'Aerospace', 'Thane']\n"
     ]
    }
   ],
   "source": [
    "#7\n",
    "List[0] = [\"29,pal\"]\n",
    "print(List)\n",
    "           "
   ]
  },
  {
   "cell_type": "code",
   "execution_count": 21,
   "id": "17e7fbe1",
   "metadata": {},
   "outputs": [
    {
     "name": "stdout",
     "output_type": "stream",
     "text": [
      "[['Tipu', 'Pal'], 29, 'Aerospace', 'Thane']\n"
     ]
    }
   ],
   "source": [
    "#8\n",
    "List[0] = [\"Tipu\",\"Pal\"]\n",
    "print(List)"
   ]
  },
  {
   "cell_type": "code",
   "execution_count": 29,
   "id": "bf78a06a",
   "metadata": {},
   "outputs": [
    {
     "name": "stdout",
     "output_type": "stream",
     "text": [
      "['Vipin', 'pal', 29, 'Aerospace', 'Thane']\n"
     ]
    }
   ],
   "source": [
    "#9.\n",
    "List1 = ['Vipin',29,'Aerospace','Thane']\n",
    "List1.insert(1,'pal')\n",
    "print(List1)\n"
   ]
  },
  {
   "cell_type": "code",
   "execution_count": 30,
   "id": "2db4f8dd",
   "metadata": {},
   "outputs": [
    {
     "name": "stdout",
     "output_type": "stream",
     "text": [
      "['Vipin', 'pal', 29, 'Aerospace', 'Thane', 'Reading Book']\n"
     ]
    }
   ],
   "source": [
    "#10.\n",
    "List1.append('Reading Book')\n",
    "print(List1)"
   ]
  },
  {
   "cell_type": "code",
   "execution_count": 35,
   "id": "189a3cf2",
   "metadata": {},
   "outputs": [
    {
     "name": "stdout",
     "output_type": "stream",
     "text": [
      "['Vipin', 'pal', 29, 'Aerospace', 'Thane', 'Reading Book', 'watching moves,playing cricket,watching newes,Listing Song', 'watching moves,playing cricket,watching newes,Listing Song', 'watching moves,playing cricket,watching newes,Listing Song']\n"
     ]
    }
   ],
   "source": [
    "#11\n",
    "List1.extend(['watching moves,playing cricket,watching newes,Listing Song'])\n",
    "print(List1)"
   ]
  },
  {
   "cell_type": "code",
   "execution_count": 38,
   "id": "f275e4c6",
   "metadata": {},
   "outputs": [
    {
     "name": "stdout",
     "output_type": "stream",
     "text": [
      "['Vipin', 29, 'Aerospace']\n"
     ]
    }
   ],
   "source": [
    "#12\n",
    "List2 =['Vipin',29,'Aerospace','Thane']\n",
    "List2.remove('Thane')\n",
    "print(List2)"
   ]
  },
  {
   "cell_type": "code",
   "execution_count": 39,
   "id": "4a4ae917",
   "metadata": {},
   "outputs": [
    {
     "name": "stdout",
     "output_type": "stream",
     "text": [
      "['Vipin', 'Aerospace']\n"
     ]
    }
   ],
   "source": [
    "#13.\n",
    "List2.pop(1)\n",
    "print(List2)\n",
    "         "
   ]
  },
  {
   "cell_type": "code",
   "execution_count": 40,
   "id": "859771c4",
   "metadata": {},
   "outputs": [
    {
     "name": "stdout",
     "output_type": "stream",
     "text": [
      "['vipin', 29, 'Aerospace']\n"
     ]
    }
   ],
   "source": [
    "#14\n",
    "List3 = ['vipin',29,'Aerospace','Thane']\n",
    "List3.pop(3)\n",
    "print(List3)"
   ]
  },
  {
   "cell_type": "code",
   "execution_count": 41,
   "id": "cd3c8f05",
   "metadata": {},
   "outputs": [
    {
     "name": "stdout",
     "output_type": "stream",
     "text": [
      "[]\n"
     ]
    }
   ],
   "source": [
    "#15\n",
    "List3.clear()\n",
    "print(List3)"
   ]
  },
  {
   "cell_type": "code",
   "execution_count": 44,
   "id": "c94e2207",
   "metadata": {},
   "outputs": [
    {
     "ename": "NameError",
     "evalue": "name 'List4' is not defined",
     "output_type": "error",
     "traceback": [
      "\u001b[1;31m---------------------------------------------------------------------------\u001b[0m",
      "\u001b[1;31mNameError\u001b[0m                                 Traceback (most recent call last)",
      "\u001b[1;32m~\\AppData\\Local\\Temp/ipykernel_4056/2196465440.py\u001b[0m in \u001b[0;36m<module>\u001b[1;34m\u001b[0m\n\u001b[0;32m      2\u001b[0m \u001b[0mList4\u001b[0m \u001b[1;33m=\u001b[0m\u001b[1;33m[\u001b[0m\u001b[1;34m'Vipin'\u001b[0m\u001b[1;33m,\u001b[0m\u001b[1;36m29\u001b[0m\u001b[1;33m,\u001b[0m \u001b[1;34m'Aerospace'\u001b[0m\u001b[1;33m,\u001b[0m\u001b[1;34m'Thane'\u001b[0m\u001b[1;33m]\u001b[0m\u001b[1;33m\u001b[0m\u001b[1;33m\u001b[0m\u001b[0m\n\u001b[0;32m      3\u001b[0m \u001b[1;32mdel\u001b[0m \u001b[0mList4\u001b[0m\u001b[1;33m\u001b[0m\u001b[1;33m\u001b[0m\u001b[0m\n\u001b[1;32m----> 4\u001b[1;33m \u001b[0mprint\u001b[0m\u001b[1;33m(\u001b[0m\u001b[0mList4\u001b[0m\u001b[1;33m)\u001b[0m\u001b[1;33m\u001b[0m\u001b[1;33m\u001b[0m\u001b[0m\n\u001b[0m",
      "\u001b[1;31mNameError\u001b[0m: name 'List4' is not defined"
     ]
    }
   ],
   "source": [
    "#16.\n",
    "List4 =['Vipin',29, 'Aerospace','Thane']\n",
    "del List4\n",
    "print(List4)"
   ]
  }
 ],
 "metadata": {
  "kernelspec": {
   "display_name": "Python 3 (ipykernel)",
   "language": "python",
   "name": "python3"
  },
  "language_info": {
   "codemirror_mode": {
    "name": "ipython",
    "version": 3
   },
   "file_extension": ".py",
   "mimetype": "text/x-python",
   "name": "python",
   "nbconvert_exporter": "python",
   "pygments_lexer": "ipython3",
   "version": "3.9.7"
  }
 },
 "nbformat": 4,
 "nbformat_minor": 5
}
